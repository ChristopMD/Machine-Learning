{
  "nbformat": 4,
  "nbformat_minor": 0,
  "metadata": {
    "colab": {
      "name": "Machine Learning techniques (kNN, NB, DT, ANN).ipynb",
      "provenance": [],
      "collapsed_sections": [],
      "authorship_tag": "ABX9TyMvQOV4v0s90glCunH0NMt/",
      "include_colab_link": true
    },
    "kernelspec": {
      "name": "python3",
      "display_name": "Python 3"
    },
    "language_info": {
      "name": "python"
    }
  },
  "cells": [
    {
      "cell_type": "markdown",
      "metadata": {
        "id": "view-in-github",
        "colab_type": "text"
      },
      "source": [
        "<a href=\"https://colab.research.google.com/github/ChristopMD/Machine-Learning/blob/main/Machine_Learning_techniques_(kNN%2C_NB%2C_DT%2C_ANN).ipynb\" target=\"_parent\"><img src=\"https://colab.research.google.com/assets/colab-badge.svg\" alt=\"Open In Colab\"/></a>"
      ]
    },
    {
      "cell_type": "markdown",
      "metadata": {
        "id": "l6GEykHWi5-C"
      },
      "source": [
        "#Machine Learning techniques (kNN, NB, DT, ANN)"
      ]
    },
    {
      "cell_type": "markdown",
      "metadata": {
        "id": "FW9rYY0Blnol"
      },
      "source": [
        "* k-Nearest Neighbor\n",
        "* Naive Bayes\n",
        "* Desicion Tree\n",
        "* Artificial Neural Network\n"
      ]
    },
    {
      "cell_type": "markdown",
      "metadata": {
        "id": "uADbkf-ei3Gt"
      },
      "source": [
        "##Imports"
      ]
    },
    {
      "cell_type": "code",
      "metadata": {
        "id": "V0_iivsAse_f"
      },
      "source": [
        "import pandas as pd\n",
        "import matplotlib.pyplot as plt\n",
        "import seaborn as sns\n",
        "import numpy as np\n",
        "import scipy.stats as ss\n",
        "from sklearn.model_selection import train_test_split\n",
        "from sklearn.preprocessing import StandardScaler\n",
        "from sklearn.neighbors import KNeighborsClassifier\n",
        "from sklearn.naive_bayes import GaussianNB\n",
        "from sklearn.metrics import confusion_matrix\n",
        "from sklearn.metrics import plot_confusion_matrix\n",
        "from sklearn import tree\n",
        "from sklearn.neural_network import MLPClassifier\n",
        "from sklearn.metrics import roc_curve, auc, roc_auc_score\n",
        "from sklearn import svm"
      ],
      "execution_count": null,
      "outputs": []
    },
    {
      "cell_type": "markdown",
      "metadata": {
        "id": "gl0-arOLjKoF"
      },
      "source": [
        "##Dataset"
      ]
    },
    {
      "cell_type": "code",
      "metadata": {
        "id": "QcVJykD5rgs-"
      },
      "source": [
        "data = pd.read_csv('Social_Network_Ads.csv')"
      ],
      "execution_count": null,
      "outputs": []
    },
    {
      "cell_type": "code",
      "metadata": {
        "colab": {
          "base_uri": "https://localhost:8080/",
          "height": 204
        },
        "id": "Gnf_l6b7sb7b",
        "outputId": "85efd961-aa85-4555-f29d-2697c97b9afd"
      },
      "source": [
        "data.head(5)"
      ],
      "execution_count": null,
      "outputs": [
        {
          "output_type": "execute_result",
          "data": {
            "text/html": [
              "<div>\n",
              "<style scoped>\n",
              "    .dataframe tbody tr th:only-of-type {\n",
              "        vertical-align: middle;\n",
              "    }\n",
              "\n",
              "    .dataframe tbody tr th {\n",
              "        vertical-align: top;\n",
              "    }\n",
              "\n",
              "    .dataframe thead th {\n",
              "        text-align: right;\n",
              "    }\n",
              "</style>\n",
              "<table border=\"1\" class=\"dataframe\">\n",
              "  <thead>\n",
              "    <tr style=\"text-align: right;\">\n",
              "      <th></th>\n",
              "      <th>User ID</th>\n",
              "      <th>Gender</th>\n",
              "      <th>Age</th>\n",
              "      <th>EstimatedSalary</th>\n",
              "      <th>Purchased</th>\n",
              "    </tr>\n",
              "  </thead>\n",
              "  <tbody>\n",
              "    <tr>\n",
              "      <th>0</th>\n",
              "      <td>15624510</td>\n",
              "      <td>Male</td>\n",
              "      <td>19</td>\n",
              "      <td>19000</td>\n",
              "      <td>0</td>\n",
              "    </tr>\n",
              "    <tr>\n",
              "      <th>1</th>\n",
              "      <td>15810944</td>\n",
              "      <td>Male</td>\n",
              "      <td>35</td>\n",
              "      <td>20000</td>\n",
              "      <td>0</td>\n",
              "    </tr>\n",
              "    <tr>\n",
              "      <th>2</th>\n",
              "      <td>15668575</td>\n",
              "      <td>Female</td>\n",
              "      <td>26</td>\n",
              "      <td>43000</td>\n",
              "      <td>0</td>\n",
              "    </tr>\n",
              "    <tr>\n",
              "      <th>3</th>\n",
              "      <td>15603246</td>\n",
              "      <td>Female</td>\n",
              "      <td>27</td>\n",
              "      <td>57000</td>\n",
              "      <td>0</td>\n",
              "    </tr>\n",
              "    <tr>\n",
              "      <th>4</th>\n",
              "      <td>15804002</td>\n",
              "      <td>Male</td>\n",
              "      <td>19</td>\n",
              "      <td>76000</td>\n",
              "      <td>0</td>\n",
              "    </tr>\n",
              "  </tbody>\n",
              "</table>\n",
              "</div>"
            ],
            "text/plain": [
              "    User ID  Gender  Age  EstimatedSalary  Purchased\n",
              "0  15624510    Male   19            19000          0\n",
              "1  15810944    Male   35            20000          0\n",
              "2  15668575  Female   26            43000          0\n",
              "3  15603246  Female   27            57000          0\n",
              "4  15804002    Male   19            76000          0"
            ]
          },
          "metadata": {
            "tags": []
          },
          "execution_count": 39
        }
      ]
    },
    {
      "cell_type": "code",
      "metadata": {
        "colab": {
          "base_uri": "https://localhost:8080/"
        },
        "id": "45c4ejzYsiFS",
        "outputId": "de0cf8ad-7ba3-4a11-d786-b4bfc6aefd73"
      },
      "source": [
        "data.dtypes"
      ],
      "execution_count": null,
      "outputs": [
        {
          "output_type": "execute_result",
          "data": {
            "text/plain": [
              "User ID             int64\n",
              "Gender             object\n",
              "Age                 int64\n",
              "EstimatedSalary     int64\n",
              "Purchased           int64\n",
              "dtype: object"
            ]
          },
          "metadata": {
            "tags": []
          },
          "execution_count": 40
        }
      ]
    },
    {
      "cell_type": "markdown",
      "metadata": {
        "id": "xB6b-9qOjtXN"
      },
      "source": [
        "##Data visualization"
      ]
    },
    {
      "cell_type": "code",
      "metadata": {
        "colab": {
          "base_uri": "https://localhost:8080/",
          "height": 296
        },
        "id": "FA4pAwU6t5_a",
        "outputId": "3a563d48-16b8-4c06-9445-9264252b05ef"
      },
      "source": [
        "sns.violinplot(x='Purchased',y='Age',data=data)"
      ],
      "execution_count": null,
      "outputs": [
        {
          "output_type": "execute_result",
          "data": {
            "text/plain": [
              "<matplotlib.axes._subplots.AxesSubplot at 0x7f865b4f1a90>"
            ]
          },
          "metadata": {
            "tags": []
          },
          "execution_count": 41
        },
        {
          "output_type": "display_data",
          "data": {
            "image/png": "[encoded data removed]",
            "text/plain": [
              "<Figure size 432x288 with 1 Axes>"
            ]
          },
          "metadata": {
            "tags": [],
            "needs_background": "light"
          }
        }
      ]
    },
    {
      "cell_type": "code",
      "metadata": {
        "id": "Jml4kRjhjpea"
      },
      "source": [
        "#Podemos concluir de la grafica de violin de \"Purchased vs Age\" que la mayoria de personas que no comprar tienen una edad alrrededor de 30, mientras las que comprar tienen una edad superior a 40 años"
      ],
      "execution_count": null,
      "outputs": []
    },
    {
      "cell_type": "code",
      "metadata": {
        "colab": {
          "base_uri": "https://localhost:8080/",
          "height": 296
        },
        "id": "EYNX_hhjuCrK",
        "outputId": "01126712-0295-4f3a-ee19-def4259cadf9"
      },
      "source": [
        "sns.violinplot(x='Purchased',y='EstimatedSalary',data=data)"
      ],
      "execution_count": null,
      "outputs": [
        {
          "output_type": "execute_result",
          "data": {
            "text/plain": [
              "<matplotlib.axes._subplots.AxesSubplot at 0x7f8652b9a510>"
            ]
          },
          "metadata": {
            "tags": []
          },
          "execution_count": 43
        },
        {
          "output_type": "display_data",
          "data": {
            "image/png": "[encoded data removed]",
            "text/plain": [
              "<Figure size 432x288 with 1 Axes>"
            ]
          },
          "metadata": {
            "tags": [],
            "needs_background": "light"
          }
        }
      ]
    },
    {
      "cell_type": "code",
      "metadata": {
        "id": "uvGyMBcouB3C"
      },
      "source": [
        "#Podemos concluir de la grafica de violin de \"Purchased vs EstimatedSalary\" que la mayoria de personas que no compran tienen un salario menor a 75000"
      ],
      "execution_count": null,
      "outputs": []
    },
    {
      "cell_type": "markdown",
      "metadata": {
        "id": "yxdy41sykKPw"
      },
      "source": [
        "##Data Normalization"
      ]
    },
    {
      "cell_type": "code",
      "metadata": {
        "id": "Nc-5_vk_slDK"
      },
      "source": [
        "X = data[['Age','EstimatedSalary']]\n",
        "y = data['Purchased']\n",
        "X_train, X_test, y_train, y_test = train_test_split(X, y, test_size = 0.20, random_state = 0)\n",
        "X_train = StandardScaler().fit_transform(X_train)\n",
        "X_test = StandardScaler().fit_transform(X_test)"
      ],
      "execution_count": null,
      "outputs": []
    },
    {
      "cell_type": "markdown",
      "metadata": {
        "id": "NcXgqxszj0LU"
      },
      "source": [
        "##k-Nearest Neighbor"
      ]
    },
    {
      "cell_type": "code",
      "metadata": {
        "id": "yCjY5AGxuiP5"
      },
      "source": [
        "def bestK(min, max, X_train,y_train, X_test):\n",
        "  maxAUC = -1\n",
        "  kArray = []\n",
        "  aucArray = []\n",
        "  classifier = None\n",
        "  y_pred = None\n",
        "\n",
        "  for k in range(min, max):\n",
        "    kArray.append(k)\n",
        "    classif = KNeighborsClassifier(n_neighbors=k).fit(X_train, y_train)\n",
        "    y_pred_prob = classif.predict_proba(X_test)\n",
        "    false_positive_rate, true_positive_rate, thresholds = roc_curve(y_test, y_pred_prob[:,1])\n",
        "    roc_auc = auc(false_positive_rate, true_positive_rate)\n",
        "    aucArray.append(roc_auc)\n",
        "\n",
        "    if maxAUC < roc_auc:\n",
        "      classifier = classif\n",
        "      y_pred = classif.predict(X_test)\n",
        "      maxAUC = roc_auc\n",
        "  index = aucArray.index(maxAUC)\n",
        "\n",
        "  return classifier, y_pred, kArray, aucArray, maxAUC, index, false_positive_rate, true_positive_rate"
      ],
      "execution_count": null,
      "outputs": []
    },
    {
      "cell_type": "code",
      "metadata": {
        "id": "fzr6P5Vdydz-"
      },
      "source": [
        "classifica, y_preddd, kArray, aucArray, maxAUC, k, false_positive_rate_KNN, true_positive_rate_KNN = bestK(1, 20,X_train,y_train,X_test)"
      ],
      "execution_count": null,
      "outputs": []
    },
    {
      "cell_type": "code",
      "metadata": {
        "colab": {
          "base_uri": "https://localhost:8080/",
          "height": 329
        },
        "id": "VGfpmN1xylBU",
        "outputId": "7dcf5c59-ebab-49f5-96c4-5af9ae487368"
      },
      "source": [
        "plt.plot(kArray, aucArray)\n",
        "plt.xlabel('K')\n",
        "plt.ylabel('AUC')\n",
        "plt.title('K VS AUC')\n",
        "print(\"El mejor valor de K es: \", kArray[k])\n",
        "print(\"Curva roc: \", aucArray[k])\n"
      ],
      "execution_count": null,
      "outputs": [
        {
          "output_type": "stream",
          "text": [
            "El mejor valor de K es:  11\n",
            "Curva roc:  0.9905956112852665\n"
          ],
          "name": "stdout"
        },
        {
          "output_type": "display_data",
          "data": {
            "image/png": "[encoded data removed]",
            "text/plain": [
              "<Figure size 432x288 with 1 Axes>"
            ]
          },
          "metadata": {
            "tags": [],
            "needs_background": "light"
          }
        }
      ]
    },
    {
      "cell_type": "code",
      "metadata": {
        "id": "Fw0-FzBx51Kq"
      },
      "source": [
        "#Podemos concluir que el mejor \"k\" para el algoritmo KNN es 11 ya que tiene su curva roc es 0.99 y es mejor que las demas."
      ],
      "execution_count": null,
      "outputs": []
    },
    {
      "cell_type": "markdown",
      "metadata": {
        "id": "zZZoQKKZkiyb"
      },
      "source": [
        "##Naive Bayes"
      ]
    },
    {
      "cell_type": "code",
      "metadata": {
        "id": "LQU3OhOB3tum"
      },
      "source": [
        "#NAIVE BAYES\n",
        "classifier = GaussianNB().fit(X_train, y_train)"
      ],
      "execution_count": null,
      "outputs": []
    },
    {
      "cell_type": "code",
      "metadata": {
        "id": "sw-7ywbb4iTE"
      },
      "source": [
        "y_pred = classifier.predict(X_test)"
      ],
      "execution_count": null,
      "outputs": []
    },
    {
      "cell_type": "code",
      "metadata": {
        "id": "qKlFolrf4i0g"
      },
      "source": [
        "y_pred_prob = classifier.predict_proba(X_test)"
      ],
      "execution_count": null,
      "outputs": []
    },
    {
      "cell_type": "code",
      "metadata": {
        "id": "BdC22Q2h4wor"
      },
      "source": [
        "false_positive_rate_NB, true_positive_rate_NB, thresholds_NB = roc_curve(y_test, y_pred_prob[:,1])"
      ],
      "execution_count": null,
      "outputs": []
    },
    {
      "cell_type": "code",
      "metadata": {
        "colab": {
          "base_uri": "https://localhost:8080/"
        },
        "id": "shmghz434xaZ",
        "outputId": "d89aee61-428b-497d-fb66-81d79bbd0569"
      },
      "source": [
        "roc_auc_NB = auc(false_positive_rate_NB, true_positive_rate_NB)\n",
        "roc_auc_NB"
      ],
      "execution_count": null,
      "outputs": [
        {
          "output_type": "execute_result",
          "data": {
            "text/plain": [
              "0.9843260188087775"
            ]
          },
          "metadata": {
            "tags": []
          },
          "execution_count": 54
        }
      ]
    },
    {
      "cell_type": "markdown",
      "metadata": {
        "id": "WbbhZCDdkmlI"
      },
      "source": [
        "##Decision Tree"
      ]
    },
    {
      "cell_type": "code",
      "metadata": {
        "id": "2EyhFZDQ41Ld"
      },
      "source": [
        "#Decision Tree\n",
        "classifier = tree.DecisionTreeClassifier(criterion=\"entropy\",max_depth=3).fit(X_train, y_train)"
      ],
      "execution_count": null,
      "outputs": []
    },
    {
      "cell_type": "code",
      "metadata": {
        "id": "92xAeQfj5DyK"
      },
      "source": [
        "y_pred = classifier.predict(X_test)"
      ],
      "execution_count": null,
      "outputs": []
    },
    {
      "cell_type": "code",
      "metadata": {
        "id": "TsdQCpex5Hk5"
      },
      "source": [
        "y_pred_prob = classifier.predict_proba(X_test)"
      ],
      "execution_count": null,
      "outputs": []
    },
    {
      "cell_type": "code",
      "metadata": {
        "id": "tKT7nWo65Kk_"
      },
      "source": [
        "false_positive_rate_DT, true_positive_rate_DT, thresholds_DT = roc_curve(y_test, y_pred_prob[:,1])"
      ],
      "execution_count": null,
      "outputs": []
    },
    {
      "cell_type": "code",
      "metadata": {
        "colab": {
          "base_uri": "https://localhost:8080/"
        },
        "id": "jtei_zeo5KnZ",
        "outputId": "98654241-87e2-4ade-c6d2-03f5b712e4af"
      },
      "source": [
        "roc_auc_DT = auc(false_positive_rate_DT, true_positive_rate_DT)\n",
        "roc_auc_DT"
      ],
      "execution_count": null,
      "outputs": [
        {
          "output_type": "execute_result",
          "data": {
            "text/plain": [
              "0.9647335423197492"
            ]
          },
          "metadata": {
            "tags": []
          },
          "execution_count": 59
        }
      ]
    },
    {
      "cell_type": "markdown",
      "metadata": {
        "id": "doNddpYokqEM"
      },
      "source": [
        "##Artificial Neural Network"
      ]
    },
    {
      "cell_type": "code",
      "metadata": {
        "colab": {
          "base_uri": "https://localhost:8080/"
        },
        "id": "eey4E-Sc5S9u",
        "outputId": "8bd52936-f77d-4b8d-c43b-507f9aa09d00"
      },
      "source": [
        "#ANN\n",
        "classifier = MLPClassifier(hidden_layer_sizes=(10,10,10), max_iter=500, alpha=0.0001,\n",
        "                     solver='adam', random_state=21,tol=0.000000001).fit(X_train, y_train)"
      ],
      "execution_count": null,
      "outputs": [
        {
          "output_type": "stream",
          "text": [
            "/usr/local/lib/python3.7/dist-packages/sklearn/neural_network/_multilayer_perceptron.py:571: ConvergenceWarning: Stochastic Optimizer: Maximum iterations (500) reached and the optimization hasn't converged yet.\n",
            "  % self.max_iter, ConvergenceWarning)\n"
          ],
          "name": "stderr"
        }
      ]
    },
    {
      "cell_type": "code",
      "metadata": {
        "id": "o4hIJzM65XZ0"
      },
      "source": [
        "y_pred = classifier.predict(X_test)\n"
      ],
      "execution_count": null,
      "outputs": []
    },
    {
      "cell_type": "code",
      "metadata": {
        "id": "eTzaJuSk5dNn"
      },
      "source": [
        "y_pred_prob = classifier.predict_proba(X_test)\n"
      ],
      "execution_count": null,
      "outputs": []
    },
    {
      "cell_type": "code",
      "metadata": {
        "colab": {
          "base_uri": "https://localhost:8080/"
        },
        "id": "CCjzfF3_5e3D",
        "outputId": "09d76bc6-ccdd-4eae-a234-3bea2ee86f87"
      },
      "source": [
        "false_positive_rate_ANN, true_positive_rate_ANN, thresholds_ANN = roc_curve(y_test, y_pred_prob[:,1])\n",
        "roc_auc_ANN = auc(false_positive_rate_ANN, true_positive_rate_ANN)\n",
        "print('roc: ', roc_auc_ANN)"
      ],
      "execution_count": null,
      "outputs": [
        {
          "output_type": "stream",
          "text": [
            "roc:  0.975705329153605\n"
          ],
          "name": "stdout"
        }
      ]
    },
    {
      "cell_type": "markdown",
      "metadata": {
        "id": "Sw01mbfqk7c8"
      },
      "source": [
        "##Confusion Matrix"
      ]
    },
    {
      "cell_type": "code",
      "metadata": {
        "id": "T90Gk5sU639J"
      },
      "source": [
        "X_train, X_test, y_train, y_test = train_test_split(X, y, test_size = 0.20, random_state = 0)"
      ],
      "execution_count": null,
      "outputs": []
    },
    {
      "cell_type": "code",
      "metadata": {
        "id": "urDlv_Ip4h6W"
      },
      "source": [
        "#Classifiers\n",
        "classifiers = [GaussianNB(), \n",
        "               tree.DecisionTreeClassifier(criterion=\"entropy\",max_depth=3),\n",
        "               KNeighborsClassifier(n_neighbors=kArray[k]), \n",
        "               MLPClassifier(hidden_layer_sizes=(10,10,10), max_iter=500, alpha=0.0001,\n",
        "                     solver='adam', random_state=21,tol=0.000000001)]"
      ],
      "execution_count": null,
      "outputs": []
    },
    {
      "cell_type": "code",
      "metadata": {
        "id": "OAXrRCoZ5VBb"
      },
      "source": [
        "def confu_matrix(classifiers, X_train, X_test, y_train, y_test):\n",
        "\n",
        "  fig, axes = plt.subplots(nrows=1, ncols=4, figsize=(15,10))\n",
        "\n",
        "  for cls, ax in zip(classifiers, axes.flatten()):\n",
        "    if classifiers.index(cls) == 2:\n",
        "      X_train = StandardScaler().fit_transform(X_train)\n",
        "      X_test = StandardScaler().fit_transform(X_test)\n",
        "    cls.fit(X_train, y_train)\n",
        "    plot_confusion_matrix(cls, \n",
        "                          X_test, \n",
        "                          y_test, \n",
        "                          ax=ax, \n",
        "                          cmap='Blues',\n",
        "                         normalize= 'true')\n",
        "    ax.title.set_text(type(cls).__name__)\n",
        "  plt.tight_layout()  \n",
        "  plt.show()"
      ],
      "execution_count": null,
      "outputs": []
    },
    {
      "cell_type": "code",
      "metadata": {
        "colab": {
          "base_uri": "https://localhost:8080/",
          "height": 684
        },
        "id": "tkFx6Bc55g7a",
        "outputId": "9b472a1c-cb66-4c78-e9cd-3e5748de174c"
      },
      "source": [
        "confu_matrix(classifiers, X_train, X_test, y_train, y_test)"
      ],
      "execution_count": null,
      "outputs": [
        {
          "output_type": "stream",
          "text": [
            "/usr/local/lib/python3.7/dist-packages/sklearn/neural_network/_multilayer_perceptron.py:571: ConvergenceWarning: Stochastic Optimizer: Maximum iterations (500) reached and the optimization hasn't converged yet.\n",
            "  % self.max_iter, ConvergenceWarning)\n"
          ],
          "name": "stderr"
        },
        {
          "output_type": "display_data",
          "data": {
            "image/png": "[encoded data removed]",
            "text/plain": [
              "<Figure size 1080x720 with 8 Axes>"
            ]
          },
          "metadata": {
            "tags": [],
            "needs_background": "light"
          }
        }
      ]
    },
    {
      "cell_type": "markdown",
      "metadata": {
        "id": "52BbxvNWo2Fv"
      },
      "source": [
        "* **Naive Bayes:**\n",
        "\n",
        "Sensibilidad: 82% -> De 100 clientes que han comprado el modelo identifica a 82\n",
        "\n",
        "Especificidad: 97% -> De 100 clientes que No han comprado el modelo identifica a 97\n",
        "\n",
        "* **Decision Tree:**\n",
        "\n",
        "Sensibilidad: 95% -> De 100 clientes que han comprado el modelo identifica a 95\n",
        "\n",
        "Especificidad: 95% -> De 100 clientes que No han comprado el modelo identifica a 95\n",
        "\n",
        "* **k-Nearest Neighbor:**\n",
        "\n",
        "Sensibilidad: 95% -> De 100 clientes que han comprado el modelo identifica a 95\n",
        "\n",
        "Especificidad: 95% -> De 100 clientes que No han comprado el modelo identifica a 95\n",
        "\n",
        "* Artificial Neural Network:\n",
        "\n",
        "Sensibilidad: 95% -> De 100 clientes que han comprado el modelo identifica a 95\n",
        "\n",
        "Especificidad: 93% -> De 100 clientes que No han comprado el modelo identifica a 93"
      ]
    },
    {
      "cell_type": "markdown",
      "metadata": {
        "id": "wSlO-T_tlMmZ"
      },
      "source": [
        "##AUC-ROC Curve"
      ]
    },
    {
      "cell_type": "code",
      "metadata": {
        "colab": {
          "base_uri": "https://localhost:8080/",
          "height": 295
        },
        "id": "tRd-51s9AKG_",
        "outputId": "7ff1264a-374e-4974-9ce9-bba874ff4a12"
      },
      "source": [
        "#PLOT CURVAS ROC\n",
        "plt.title('Receiver Operating Characteristic')\n",
        "plt.plot(false_positive_rate_NB,true_positive_rate_NB, color='red',label = 'AUC_BN = %0.2f' % roc_auc_NB)\n",
        "plt.plot(false_positive_rate_DT,true_positive_rate_DT, color='orange',label = 'AUC_DT = %0.2f' % roc_auc_DT)\n",
        "plt.plot(false_positive_rate_ANN,true_positive_rate_ANN, color='green',label = 'AUC_ANN = %0.2f' % roc_auc_ANN)\n",
        "plt.plot(false_positive_rate_KNN,true_positive_rate_KNN, color='blue',label = 'AUC_KNN = %0.2f' % aucArray[k])\n",
        "plt.legend(loc = 'lower right')\n",
        "plt.plot([0, 1], [0, 1],linestyle='--')\n",
        "plt.axis('tight')\n",
        "plt.ylabel('True Positive Rate')\n",
        "plt.xlabel('False Positive Rate')\n",
        "plt.show()"
      ],
      "execution_count": null,
      "outputs": [
        {
          "output_type": "display_data",
          "data": {
            "image/png": "[encoded data removed]",
            "text/plain": [
              "<Figure size 432x288 with 1 Axes>"
            ]
          },
          "metadata": {
            "tags": [],
            "needs_background": "light"
          }
        }
      ]
    },
    {
      "cell_type": "markdown",
      "metadata": {
        "id": "P8m2QBkk5f-2"
      },
      "source": [
        "Podemos concluir que el mejor modelo predictivo entre NB, DT, ANN y KNN para el dataset es el modelo KNN con k = 11"
      ]
    }
  ]
}