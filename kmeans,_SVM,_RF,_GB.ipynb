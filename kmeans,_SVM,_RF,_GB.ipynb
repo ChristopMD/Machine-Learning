{
  "nbformat": 4,
  "nbformat_minor": 0,
  "metadata": {
    "colab": {
      "name": "Machine Learning techniques (k-means, SVM, RF, GB).ipynb",
      "provenance": [],
      "collapsed_sections": [],
      "authorship_tag": "ABX9TyPwhso3UzVVkgo9GShBbI+8",
      "include_colab_link": true
    },
    "kernelspec": {
      "name": "python3",
      "display_name": "Python 3"
    },
    "language_info": {
      "name": "python"
    }
  },
  "cells": [
    {
      "cell_type": "markdown",
      "metadata": {
        "id": "view-in-github",
        "colab_type": "text"
      },
      "source": [
        "<a href=\"https://colab.research.google.com/github/ChristopMD/Machine-Learning/blob/main/Machine_Learning_techniques_(k_means%2C_SVM%2C_RF%2C_GB).ipynb\" target=\"_parent\"><img src=\"https://colab.research.google.com/assets/colab-badge.svg\" alt=\"Open In Colab\"/></a>"
      ]
    },
    {
      "cell_type": "markdown",
      "metadata": {
        "id": "mGLIOTZZRJYA"
      },
      "source": [
        "#Machine Learning techniques (k-means, SVM, RF, GB)"
      ]
    },
    {
      "cell_type": "markdown",
      "metadata": {
        "id": "Bp7Xk37MmNhQ"
      },
      "source": [
        "* K-means\n",
        "* Support Vector Machine\n",
        "* Random Forest\n",
        "* Gradient Boosting"
      ]
    },
    {
      "cell_type": "markdown",
      "metadata": {
        "id": "gUWJ-DoGL9-D"
      },
      "source": [
        "##Imports"
      ]
    },
    {
      "cell_type": "code",
      "metadata": {
        "id": "yy5wVSQWdz5c"
      },
      "source": [
        "import pandas as pd\n",
        "import matplotlib.pyplot as plt\n",
        "import seaborn as sns\n",
        "import numpy as np\n",
        "import scipy.stats as ss\n",
        "from sklearn.model_selection import train_test_split\n",
        "from sklearn.neural_network import MLPClassifier\n",
        "from sklearn.metrics import classification_report, confusion_matrix\n",
        "from sklearn.metrics import plot_confusion_matrix\n",
        "from sklearn.metrics import roc_curve, auc, roc_auc_score\n",
        "from sklearn.preprocessing import StandardScaler\n",
        "from sklearn.preprocessing import LabelEncoder\n",
        "from sklearn.cluster import KMeans\n",
        "from sklearn.metrics import pairwise_distances_argmin_min\n",
        "from sklearn.metrics import silhouette_samples, silhouette_score\n",
        "from sklearn.svm import SVC\n",
        "from sklearn.ensemble import RandomForestClassifier\n",
        "from sklearn.ensemble import  GradientBoostingClassifier"
      ],
      "execution_count": 1,
      "outputs": []
    },
    {
      "cell_type": "markdown",
      "metadata": {
        "id": "BZk4-u3mMDXN"
      },
      "source": [
        "##Dataset"
      ]
    },
    {
      "cell_type": "code",
      "metadata": {
        "id": "h1j4pvRteU9J"
      },
      "source": [
        "#Training data\n",
        "train = pd.read_csv('churn-bigml-80.csv')"
      ],
      "execution_count": 2,
      "outputs": []
    },
    {
      "cell_type": "code",
      "metadata": {
        "id": "l5YCG_8teX6g"
      },
      "source": [
        "train[\"flag_muestra\"] = \"train\""
      ],
      "execution_count": 3,
      "outputs": []
    },
    {
      "cell_type": "code",
      "metadata": {
        "id": "lLtuW6BAeZeA"
      },
      "source": [
        "#Testing data\n",
        "test = pd.read_csv('churn-bigml-20.csv')"
      ],
      "execution_count": 4,
      "outputs": []
    },
    {
      "cell_type": "code",
      "metadata": {
        "id": "WpoJjLMUen2o"
      },
      "source": [
        "test[\"flag_muestra\"] = \"test\""
      ],
      "execution_count": 5,
      "outputs": []
    },
    {
      "cell_type": "code",
      "metadata": {
        "id": "eYw-PtGDepkg"
      },
      "source": [
        "data = train.append(test)"
      ],
      "execution_count": 6,
      "outputs": []
    },
    {
      "cell_type": "code",
      "metadata": {
        "colab": {
          "base_uri": "https://localhost:8080/",
          "height": 238
        },
        "id": "UfqrJn8Mevtg",
        "outputId": "51ee1534-c68d-41d3-b5ed-ab8c800f8df9"
      },
      "source": [
        "data.head(5)"
      ],
      "execution_count": 7,
      "outputs": [
        {
          "output_type": "execute_result",
          "data": {
            "text/html": [
              "<div>\n",
              "<style scoped>\n",
              "    .dataframe tbody tr th:only-of-type {\n",
              "        vertical-align: middle;\n",
              "    }\n",
              "\n",
              "    .dataframe tbody tr th {\n",
              "        vertical-align: top;\n",
              "    }\n",
              "\n",
              "    .dataframe thead th {\n",
              "        text-align: right;\n",
              "    }\n",
              "</style>\n",
              "<table border=\"1\" class=\"dataframe\">\n",
              "  <thead>\n",
              "    <tr style=\"text-align: right;\">\n",
              "      <th></th>\n",
              "      <th>State</th>\n",
              "      <th>Account length</th>\n",
              "      <th>Area code</th>\n",
              "      <th>International plan</th>\n",
              "      <th>Voice mail plan</th>\n",
              "      <th>Number vmail messages</th>\n",
              "      <th>Total day minutes</th>\n",
              "      <th>Total day calls</th>\n",
              "      <th>Total day charge</th>\n",
              "      <th>Total eve minutes</th>\n",
              "      <th>Total eve calls</th>\n",
              "      <th>Total eve charge</th>\n",
              "      <th>Total night minutes</th>\n",
              "      <th>Total night calls</th>\n",
              "      <th>Total night charge</th>\n",
              "      <th>Total intl minutes</th>\n",
              "      <th>Total intl calls</th>\n",
              "      <th>Total intl charge</th>\n",
              "      <th>Customer service calls</th>\n",
              "      <th>Churn</th>\n",
              "      <th>flag_muestra</th>\n",
              "    </tr>\n",
              "  </thead>\n",
              "  <tbody>\n",
              "    <tr>\n",
              "      <th>0</th>\n",
              "      <td>KS</td>\n",
              "      <td>128</td>\n",
              "      <td>415</td>\n",
              "      <td>No</td>\n",
              "      <td>Yes</td>\n",
              "      <td>25</td>\n",
              "      <td>265.1</td>\n",
              "      <td>110</td>\n",
              "      <td>45.07</td>\n",
              "      <td>197.4</td>\n",
              "      <td>99</td>\n",
              "      <td>16.78</td>\n",
              "      <td>244.7</td>\n",
              "      <td>91</td>\n",
              "      <td>11.01</td>\n",
              "      <td>10.0</td>\n",
              "      <td>3</td>\n",
              "      <td>2.70</td>\n",
              "      <td>1</td>\n",
              "      <td>False</td>\n",
              "      <td>train</td>\n",
              "    </tr>\n",
              "    <tr>\n",
              "      <th>1</th>\n",
              "      <td>OH</td>\n",
              "      <td>107</td>\n",
              "      <td>415</td>\n",
              "      <td>No</td>\n",
              "      <td>Yes</td>\n",
              "      <td>26</td>\n",
              "      <td>161.6</td>\n",
              "      <td>123</td>\n",
              "      <td>27.47</td>\n",
              "      <td>195.5</td>\n",
              "      <td>103</td>\n",
              "      <td>16.62</td>\n",
              "      <td>254.4</td>\n",
              "      <td>103</td>\n",
              "      <td>11.45</td>\n",
              "      <td>13.7</td>\n",
              "      <td>3</td>\n",
              "      <td>3.70</td>\n",
              "      <td>1</td>\n",
              "      <td>False</td>\n",
              "      <td>train</td>\n",
              "    </tr>\n",
              "    <tr>\n",
              "      <th>2</th>\n",
              "      <td>NJ</td>\n",
              "      <td>137</td>\n",
              "      <td>415</td>\n",
              "      <td>No</td>\n",
              "      <td>No</td>\n",
              "      <td>0</td>\n",
              "      <td>243.4</td>\n",
              "      <td>114</td>\n",
              "      <td>41.38</td>\n",
              "      <td>121.2</td>\n",
              "      <td>110</td>\n",
              "      <td>10.30</td>\n",
              "      <td>162.6</td>\n",
              "      <td>104</td>\n",
              "      <td>7.32</td>\n",
              "      <td>12.2</td>\n",
              "      <td>5</td>\n",
              "      <td>3.29</td>\n",
              "      <td>0</td>\n",
              "      <td>False</td>\n",
              "      <td>train</td>\n",
              "    </tr>\n",
              "    <tr>\n",
              "      <th>3</th>\n",
              "      <td>OH</td>\n",
              "      <td>84</td>\n",
              "      <td>408</td>\n",
              "      <td>Yes</td>\n",
              "      <td>No</td>\n",
              "      <td>0</td>\n",
              "      <td>299.4</td>\n",
              "      <td>71</td>\n",
              "      <td>50.90</td>\n",
              "      <td>61.9</td>\n",
              "      <td>88</td>\n",
              "      <td>5.26</td>\n",
              "      <td>196.9</td>\n",
              "      <td>89</td>\n",
              "      <td>8.86</td>\n",
              "      <td>6.6</td>\n",
              "      <td>7</td>\n",
              "      <td>1.78</td>\n",
              "      <td>2</td>\n",
              "      <td>False</td>\n",
              "      <td>train</td>\n",
              "    </tr>\n",
              "    <tr>\n",
              "      <th>4</th>\n",
              "      <td>OK</td>\n",
              "      <td>75</td>\n",
              "      <td>415</td>\n",
              "      <td>Yes</td>\n",
              "      <td>No</td>\n",
              "      <td>0</td>\n",
              "      <td>166.7</td>\n",
              "      <td>113</td>\n",
              "      <td>28.34</td>\n",
              "      <td>148.3</td>\n",
              "      <td>122</td>\n",
              "      <td>12.61</td>\n",
              "      <td>186.9</td>\n",
              "      <td>121</td>\n",
              "      <td>8.41</td>\n",
              "      <td>10.1</td>\n",
              "      <td>3</td>\n",
              "      <td>2.73</td>\n",
              "      <td>3</td>\n",
              "      <td>False</td>\n",
              "      <td>train</td>\n",
              "    </tr>\n",
              "  </tbody>\n",
              "</table>\n",
              "</div>"
            ],
            "text/plain": [
              "  State  Account length  Area code  ... Customer service calls  Churn  flag_muestra\n",
              "0    KS             128        415  ...                      1  False         train\n",
              "1    OH             107        415  ...                      1  False         train\n",
              "2    NJ             137        415  ...                      0  False         train\n",
              "3    OH              84        408  ...                      2  False         train\n",
              "4    OK              75        415  ...                      3  False         train\n",
              "\n",
              "[5 rows x 21 columns]"
            ]
          },
          "metadata": {
            "tags": []
          },
          "execution_count": 7
        }
      ]
    },
    {
      "cell_type": "code",
      "metadata": {
        "colab": {
          "base_uri": "https://localhost:8080/"
        },
        "id": "GoapiecefaI7",
        "outputId": "befa14b7-cb7a-457d-d10a-766c8a1db8ef"
      },
      "source": [
        "data.dtypes"
      ],
      "execution_count": 8,
      "outputs": [
        {
          "output_type": "execute_result",
          "data": {
            "text/plain": [
              "State                      object\n",
              "Account length              int64\n",
              "Area code                   int64\n",
              "International plan         object\n",
              "Voice mail plan            object\n",
              "Number vmail messages       int64\n",
              "Total day minutes         float64\n",
              "Total day calls             int64\n",
              "Total day charge          float64\n",
              "Total eve minutes         float64\n",
              "Total eve calls             int64\n",
              "Total eve charge          float64\n",
              "Total night minutes       float64\n",
              "Total night calls           int64\n",
              "Total night charge        float64\n",
              "Total intl minutes        float64\n",
              "Total intl calls            int64\n",
              "Total intl charge         float64\n",
              "Customer service calls      int64\n",
              "Churn                        bool\n",
              "flag_muestra               object\n",
              "dtype: object"
            ]
          },
          "metadata": {
            "tags": []
          },
          "execution_count": 8
        }
      ]
    },
    {
      "cell_type": "code",
      "metadata": {
        "id": "kjCeM8VYfaC9"
      },
      "source": [
        "data['Area code'] = data['Area code'].astype(object)"
      ],
      "execution_count": 9,
      "outputs": []
    },
    {
      "cell_type": "code",
      "metadata": {
        "colab": {
          "base_uri": "https://localhost:8080/"
        },
        "id": "v34XqLypffRp",
        "outputId": "af72947c-9e69-4786-a4da-06ca20553ba5"
      },
      "source": [
        "data.dtypes"
      ],
      "execution_count": 10,
      "outputs": [
        {
          "output_type": "execute_result",
          "data": {
            "text/plain": [
              "State                      object\n",
              "Account length              int64\n",
              "Area code                  object\n",
              "International plan         object\n",
              "Voice mail plan            object\n",
              "Number vmail messages       int64\n",
              "Total day minutes         float64\n",
              "Total day calls             int64\n",
              "Total day charge          float64\n",
              "Total eve minutes         float64\n",
              "Total eve calls             int64\n",
              "Total eve charge          float64\n",
              "Total night minutes       float64\n",
              "Total night calls           int64\n",
              "Total night charge        float64\n",
              "Total intl minutes        float64\n",
              "Total intl calls            int64\n",
              "Total intl charge         float64\n",
              "Customer service calls      int64\n",
              "Churn                        bool\n",
              "flag_muestra               object\n",
              "dtype: object"
            ]
          },
          "metadata": {
            "tags": []
          },
          "execution_count": 10
        }
      ]
    },
    {
      "cell_type": "markdown",
      "metadata": {
        "id": "E7TyA9rRRO2r"
      },
      "source": [
        "##Data Preprocessing"
      ]
    },
    {
      "cell_type": "code",
      "metadata": {
        "id": "6u9jwuJggCle"
      },
      "source": [
        "#Juntamos la variables minutes una variable\n",
        "data['Total minutes'] = data['Total day minutes'] + data['Total eve minutes'] + data['Total night minutes'] + data['Total intl minutes']"
      ],
      "execution_count": 11,
      "outputs": []
    },
    {
      "cell_type": "code",
      "metadata": {
        "id": "8yDgdmGRgiEc"
      },
      "source": [
        "#Juntamos las variables de calls en una sola variable\n",
        "total_calls = data['Total day calls'] + data['Total eve calls'] + data['Total night calls'] + data['Total intl calls']\n",
        "data.insert(loc=len(data.columns), column='Total calls', value=total_calls)"
      ],
      "execution_count": 12,
      "outputs": []
    },
    {
      "cell_type": "code",
      "metadata": {
        "id": "T5-M2yZtgphk"
      },
      "source": [
        "#Juntamos la variables charge en una sola variable\n",
        "data['Total charge'] = data['Total day charge'] + data['Total eve charge'] + data['Total night charge'] + data['Total intl charge']"
      ],
      "execution_count": 13,
      "outputs": []
    },
    {
      "cell_type": "code",
      "metadata": {
        "id": "ZjGa2wPVg6EA"
      },
      "source": [
        "#Rename variables\n",
        "data = data.rename(columns = {'International plan':'International_plan'})\n",
        "data = data.rename(columns = {'Voice mail plan':'Voice_mail_plan'})"
      ],
      "execution_count": 14,
      "outputs": []
    },
    {
      "cell_type": "code",
      "metadata": {
        "colab": {
          "base_uri": "https://localhost:8080/",
          "height": 238
        },
        "id": "o25I9-21hlwx",
        "outputId": "8cd4c35c-3431-4e09-bc75-a447ff57aafe"
      },
      "source": [
        "data.head(5)"
      ],
      "execution_count": 15,
      "outputs": [
        {
          "output_type": "execute_result",
          "data": {
            "text/html": [
              "<div>\n",
              "<style scoped>\n",
              "    .dataframe tbody tr th:only-of-type {\n",
              "        vertical-align: middle;\n",
              "    }\n",
              "\n",
              "    .dataframe tbody tr th {\n",
              "        vertical-align: top;\n",
              "    }\n",
              "\n",
              "    .dataframe thead th {\n",
              "        text-align: right;\n",
              "    }\n",
              "</style>\n",
              "<table border=\"1\" class=\"dataframe\">\n",
              "  <thead>\n",
              "    <tr style=\"text-align: right;\">\n",
              "      <th></th>\n",
              "      <th>State</th>\n",
              "      <th>Account length</th>\n",
              "      <th>Area code</th>\n",
              "      <th>International_plan</th>\n",
              "      <th>Voice_mail_plan</th>\n",
              "      <th>Number vmail messages</th>\n",
              "      <th>Total day minutes</th>\n",
              "      <th>Total day calls</th>\n",
              "      <th>Total day charge</th>\n",
              "      <th>Total eve minutes</th>\n",
              "      <th>Total eve calls</th>\n",
              "      <th>Total eve charge</th>\n",
              "      <th>Total night minutes</th>\n",
              "      <th>Total night calls</th>\n",
              "      <th>Total night charge</th>\n",
              "      <th>Total intl minutes</th>\n",
              "      <th>Total intl calls</th>\n",
              "      <th>Total intl charge</th>\n",
              "      <th>Customer service calls</th>\n",
              "      <th>Churn</th>\n",
              "      <th>flag_muestra</th>\n",
              "      <th>Total minutes</th>\n",
              "      <th>Total calls</th>\n",
              "      <th>Total charge</th>\n",
              "    </tr>\n",
              "  </thead>\n",
              "  <tbody>\n",
              "    <tr>\n",
              "      <th>0</th>\n",
              "      <td>KS</td>\n",
              "      <td>128</td>\n",
              "      <td>415</td>\n",
              "      <td>No</td>\n",
              "      <td>Yes</td>\n",
              "      <td>25</td>\n",
              "      <td>265.1</td>\n",
              "      <td>110</td>\n",
              "      <td>45.07</td>\n",
              "      <td>197.4</td>\n",
              "      <td>99</td>\n",
              "      <td>16.78</td>\n",
              "      <td>244.7</td>\n",
              "      <td>91</td>\n",
              "      <td>11.01</td>\n",
              "      <td>10.0</td>\n",
              "      <td>3</td>\n",
              "      <td>2.70</td>\n",
              "      <td>1</td>\n",
              "      <td>False</td>\n",
              "      <td>train</td>\n",
              "      <td>717.2</td>\n",
              "      <td>303</td>\n",
              "      <td>75.56</td>\n",
              "    </tr>\n",
              "    <tr>\n",
              "      <th>1</th>\n",
              "      <td>OH</td>\n",
              "      <td>107</td>\n",
              "      <td>415</td>\n",
              "      <td>No</td>\n",
              "      <td>Yes</td>\n",
              "      <td>26</td>\n",
              "      <td>161.6</td>\n",
              "      <td>123</td>\n",
              "      <td>27.47</td>\n",
              "      <td>195.5</td>\n",
              "      <td>103</td>\n",
              "      <td>16.62</td>\n",
              "      <td>254.4</td>\n",
              "      <td>103</td>\n",
              "      <td>11.45</td>\n",
              "      <td>13.7</td>\n",
              "      <td>3</td>\n",
              "      <td>3.70</td>\n",
              "      <td>1</td>\n",
              "      <td>False</td>\n",
              "      <td>train</td>\n",
              "      <td>625.2</td>\n",
              "      <td>332</td>\n",
              "      <td>59.24</td>\n",
              "    </tr>\n",
              "    <tr>\n",
              "      <th>2</th>\n",
              "      <td>NJ</td>\n",
              "      <td>137</td>\n",
              "      <td>415</td>\n",
              "      <td>No</td>\n",
              "      <td>No</td>\n",
              "      <td>0</td>\n",
              "      <td>243.4</td>\n",
              "      <td>114</td>\n",
              "      <td>41.38</td>\n",
              "      <td>121.2</td>\n",
              "      <td>110</td>\n",
              "      <td>10.30</td>\n",
              "      <td>162.6</td>\n",
              "      <td>104</td>\n",
              "      <td>7.32</td>\n",
              "      <td>12.2</td>\n",
              "      <td>5</td>\n",
              "      <td>3.29</td>\n",
              "      <td>0</td>\n",
              "      <td>False</td>\n",
              "      <td>train</td>\n",
              "      <td>539.4</td>\n",
              "      <td>333</td>\n",
              "      <td>62.29</td>\n",
              "    </tr>\n",
              "    <tr>\n",
              "      <th>3</th>\n",
              "      <td>OH</td>\n",
              "      <td>84</td>\n",
              "      <td>408</td>\n",
              "      <td>Yes</td>\n",
              "      <td>No</td>\n",
              "      <td>0</td>\n",
              "      <td>299.4</td>\n",
              "      <td>71</td>\n",
              "      <td>50.90</td>\n",
              "      <td>61.9</td>\n",
              "      <td>88</td>\n",
              "      <td>5.26</td>\n",
              "      <td>196.9</td>\n",
              "      <td>89</td>\n",
              "      <td>8.86</td>\n",
              "      <td>6.6</td>\n",
              "      <td>7</td>\n",
              "      <td>1.78</td>\n",
              "      <td>2</td>\n",
              "      <td>False</td>\n",
              "      <td>train</td>\n",
              "      <td>564.8</td>\n",
              "      <td>255</td>\n",
              "      <td>66.80</td>\n",
              "    </tr>\n",
              "    <tr>\n",
              "      <th>4</th>\n",
              "      <td>OK</td>\n",
              "      <td>75</td>\n",
              "      <td>415</td>\n",
              "      <td>Yes</td>\n",
              "      <td>No</td>\n",
              "      <td>0</td>\n",
              "      <td>166.7</td>\n",
              "      <td>113</td>\n",
              "      <td>28.34</td>\n",
              "      <td>148.3</td>\n",
              "      <td>122</td>\n",
              "      <td>12.61</td>\n",
              "      <td>186.9</td>\n",
              "      <td>121</td>\n",
              "      <td>8.41</td>\n",
              "      <td>10.1</td>\n",
              "      <td>3</td>\n",
              "      <td>2.73</td>\n",
              "      <td>3</td>\n",
              "      <td>False</td>\n",
              "      <td>train</td>\n",
              "      <td>512.0</td>\n",
              "      <td>359</td>\n",
              "      <td>52.09</td>\n",
              "    </tr>\n",
              "  </tbody>\n",
              "</table>\n",
              "</div>"
            ],
            "text/plain": [
              "  State  Account length Area code  ... Total minutes Total calls  Total charge\n",
              "0    KS             128       415  ...         717.2         303         75.56\n",
              "1    OH             107       415  ...         625.2         332         59.24\n",
              "2    NJ             137       415  ...         539.4         333         62.29\n",
              "3    OH              84       408  ...         564.8         255         66.80\n",
              "4    OK              75       415  ...         512.0         359         52.09\n",
              "\n",
              "[5 rows x 24 columns]"
            ]
          },
          "metadata": {
            "tags": []
          },
          "execution_count": 15
        }
      ]
    },
    {
      "cell_type": "code",
      "metadata": {
        "id": "OwD_J4jkhx2K"
      },
      "source": [
        "#Crear variables binarizadas\n",
        "data['c_International_plan'] = LabelEncoder().fit_transform(data.International_plan.values)\n",
        "data['c_Voice_mail_plan'] = LabelEncoder().fit_transform(data.Voice_mail_plan.values)"
      ],
      "execution_count": 16,
      "outputs": []
    },
    {
      "cell_type": "code",
      "metadata": {
        "colab": {
          "base_uri": "https://localhost:8080/",
          "height": 258
        },
        "id": "Z29fEzGZh191",
        "outputId": "345a66fa-2e5c-4b30-9fb3-bf97e8f45c5f"
      },
      "source": [
        "data.head(5)"
      ],
      "execution_count": 17,
      "outputs": [
        {
          "output_type": "execute_result",
          "data": {
            "text/html": [
              "<div>\n",
              "<style scoped>\n",
              "    .dataframe tbody tr th:only-of-type {\n",
              "        vertical-align: middle;\n",
              "    }\n",
              "\n",
              "    .dataframe tbody tr th {\n",
              "        vertical-align: top;\n",
              "    }\n",
              "\n",
              "    .dataframe thead th {\n",
              "        text-align: right;\n",
              "    }\n",
              "</style>\n",
              "<table border=\"1\" class=\"dataframe\">\n",
              "  <thead>\n",
              "    <tr style=\"text-align: right;\">\n",
              "      <th></th>\n",
              "      <th>State</th>\n",
              "      <th>Account length</th>\n",
              "      <th>Area code</th>\n",
              "      <th>International_plan</th>\n",
              "      <th>Voice_mail_plan</th>\n",
              "      <th>Number vmail messages</th>\n",
              "      <th>Total day minutes</th>\n",
              "      <th>Total day calls</th>\n",
              "      <th>Total day charge</th>\n",
              "      <th>Total eve minutes</th>\n",
              "      <th>Total eve calls</th>\n",
              "      <th>Total eve charge</th>\n",
              "      <th>Total night minutes</th>\n",
              "      <th>Total night calls</th>\n",
              "      <th>Total night charge</th>\n",
              "      <th>Total intl minutes</th>\n",
              "      <th>Total intl calls</th>\n",
              "      <th>Total intl charge</th>\n",
              "      <th>Customer service calls</th>\n",
              "      <th>Churn</th>\n",
              "      <th>flag_muestra</th>\n",
              "      <th>Total minutes</th>\n",
              "      <th>Total calls</th>\n",
              "      <th>Total charge</th>\n",
              "      <th>c_International_plan</th>\n",
              "      <th>c_Voice_mail_plan</th>\n",
              "    </tr>\n",
              "  </thead>\n",
              "  <tbody>\n",
              "    <tr>\n",
              "      <th>0</th>\n",
              "      <td>KS</td>\n",
              "      <td>128</td>\n",
              "      <td>415</td>\n",
              "      <td>No</td>\n",
              "      <td>Yes</td>\n",
              "      <td>25</td>\n",
              "      <td>265.1</td>\n",
              "      <td>110</td>\n",
              "      <td>45.07</td>\n",
              "      <td>197.4</td>\n",
              "      <td>99</td>\n",
              "      <td>16.78</td>\n",
              "      <td>244.7</td>\n",
              "      <td>91</td>\n",
              "      <td>11.01</td>\n",
              "      <td>10.0</td>\n",
              "      <td>3</td>\n",
              "      <td>2.70</td>\n",
              "      <td>1</td>\n",
              "      <td>False</td>\n",
              "      <td>train</td>\n",
              "      <td>717.2</td>\n",
              "      <td>303</td>\n",
              "      <td>75.56</td>\n",
              "      <td>0</td>\n",
              "      <td>1</td>\n",
              "    </tr>\n",
              "    <tr>\n",
              "      <th>1</th>\n",
              "      <td>OH</td>\n",
              "      <td>107</td>\n",
              "      <td>415</td>\n",
              "      <td>No</td>\n",
              "      <td>Yes</td>\n",
              "      <td>26</td>\n",
              "      <td>161.6</td>\n",
              "      <td>123</td>\n",
              "      <td>27.47</td>\n",
              "      <td>195.5</td>\n",
              "      <td>103</td>\n",
              "      <td>16.62</td>\n",
              "      <td>254.4</td>\n",
              "      <td>103</td>\n",
              "      <td>11.45</td>\n",
              "      <td>13.7</td>\n",
              "      <td>3</td>\n",
              "      <td>3.70</td>\n",
              "      <td>1</td>\n",
              "      <td>False</td>\n",
              "      <td>train</td>\n",
              "      <td>625.2</td>\n",
              "      <td>332</td>\n",
              "      <td>59.24</td>\n",
              "      <td>0</td>\n",
              "      <td>1</td>\n",
              "    </tr>\n",
              "    <tr>\n",
              "      <th>2</th>\n",
              "      <td>NJ</td>\n",
              "      <td>137</td>\n",
              "      <td>415</td>\n",
              "      <td>No</td>\n",
              "      <td>No</td>\n",
              "      <td>0</td>\n",
              "      <td>243.4</td>\n",
              "      <td>114</td>\n",
              "      <td>41.38</td>\n",
              "      <td>121.2</td>\n",
              "      <td>110</td>\n",
              "      <td>10.30</td>\n",
              "      <td>162.6</td>\n",
              "      <td>104</td>\n",
              "      <td>7.32</td>\n",
              "      <td>12.2</td>\n",
              "      <td>5</td>\n",
              "      <td>3.29</td>\n",
              "      <td>0</td>\n",
              "      <td>False</td>\n",
              "      <td>train</td>\n",
              "      <td>539.4</td>\n",
              "      <td>333</td>\n",
              "      <td>62.29</td>\n",
              "      <td>0</td>\n",
              "      <td>0</td>\n",
              "    </tr>\n",
              "    <tr>\n",
              "      <th>3</th>\n",
              "      <td>OH</td>\n",
              "      <td>84</td>\n",
              "      <td>408</td>\n",
              "      <td>Yes</td>\n",
              "      <td>No</td>\n",
              "      <td>0</td>\n",
              "      <td>299.4</td>\n",
              "      <td>71</td>\n",
              "      <td>50.90</td>\n",
              "      <td>61.9</td>\n",
              "      <td>88</td>\n",
              "      <td>5.26</td>\n",
              "      <td>196.9</td>\n",
              "      <td>89</td>\n",
              "      <td>8.86</td>\n",
              "      <td>6.6</td>\n",
              "      <td>7</td>\n",
              "      <td>1.78</td>\n",
              "      <td>2</td>\n",
              "      <td>False</td>\n",
              "      <td>train</td>\n",
              "      <td>564.8</td>\n",
              "      <td>255</td>\n",
              "      <td>66.80</td>\n",
              "      <td>1</td>\n",
              "      <td>0</td>\n",
              "    </tr>\n",
              "    <tr>\n",
              "      <th>4</th>\n",
              "      <td>OK</td>\n",
              "      <td>75</td>\n",
              "      <td>415</td>\n",
              "      <td>Yes</td>\n",
              "      <td>No</td>\n",
              "      <td>0</td>\n",
              "      <td>166.7</td>\n",
              "      <td>113</td>\n",
              "      <td>28.34</td>\n",
              "      <td>148.3</td>\n",
              "      <td>122</td>\n",
              "      <td>12.61</td>\n",
              "      <td>186.9</td>\n",
              "      <td>121</td>\n",
              "      <td>8.41</td>\n",
              "      <td>10.1</td>\n",
              "      <td>3</td>\n",
              "      <td>2.73</td>\n",
              "      <td>3</td>\n",
              "      <td>False</td>\n",
              "      <td>train</td>\n",
              "      <td>512.0</td>\n",
              "      <td>359</td>\n",
              "      <td>52.09</td>\n",
              "      <td>1</td>\n",
              "      <td>0</td>\n",
              "    </tr>\n",
              "  </tbody>\n",
              "</table>\n",
              "</div>"
            ],
            "text/plain": [
              "  State  Account length  ... c_International_plan c_Voice_mail_plan\n",
              "0    KS             128  ...                    0                 1\n",
              "1    OH             107  ...                    0                 1\n",
              "2    NJ             137  ...                    0                 0\n",
              "3    OH              84  ...                    1                 0\n",
              "4    OK              75  ...                    1                 0\n",
              "\n",
              "[5 rows x 26 columns]"
            ]
          },
          "metadata": {
            "tags": []
          },
          "execution_count": 17
        }
      ]
    },
    {
      "cell_type": "code",
      "metadata": {
        "id": "dggQmEqmhIER"
      },
      "source": [
        "#X: Variables y Y: Target\n",
        "X = data[['c_International_plan','c_Voice_mail_plan','Number vmail messages','Total minutes', 'Total calls','Total charge','Customer service calls']]\n",
        "y = data['Churn']"
      ],
      "execution_count": 18,
      "outputs": []
    },
    {
      "cell_type": "code",
      "metadata": {
        "colab": {
          "base_uri": "https://localhost:8080/"
        },
        "id": "zGhE5G6IiRVU",
        "outputId": "8c4b3b90-1600-49b1-c845-274a7fb605cd"
      },
      "source": [
        "X.dtypes"
      ],
      "execution_count": 19,
      "outputs": [
        {
          "output_type": "execute_result",
          "data": {
            "text/plain": [
              "c_International_plan        int64\n",
              "c_Voice_mail_plan           int64\n",
              "Number vmail messages       int64\n",
              "Total minutes             float64\n",
              "Total calls                 int64\n",
              "Total charge              float64\n",
              "Customer service calls      int64\n",
              "dtype: object"
            ]
          },
          "metadata": {
            "tags": []
          },
          "execution_count": 19
        }
      ]
    },
    {
      "cell_type": "code",
      "metadata": {
        "id": "-hcSPrEb2ZSH"
      },
      "source": [
        "#Pregunta 1"
      ],
      "execution_count": 20,
      "outputs": []
    },
    {
      "cell_type": "code",
      "metadata": {
        "id": "aVLjSYk5i1Hd"
      },
      "source": [
        "#a) Presentar la matriz de correlación haciendo uso adecuado de las variables. Comentar los resultados. (2 puntos)"
      ],
      "execution_count": 21,
      "outputs": []
    },
    {
      "cell_type": "markdown",
      "metadata": {
        "id": "IWreimZZXBbz"
      },
      "source": [
        "##Heatmap for quantitative variables"
      ]
    },
    {
      "cell_type": "code",
      "metadata": {
        "colab": {
          "base_uri": "https://localhost:8080/",
          "height": 383
        },
        "id": "eWJ1N9IXexwI",
        "outputId": "d2e2b049-52f4-4a12-d0ca-737b51f01cce"
      },
      "source": [
        "#Heatmap para las variables cuantitativas\n",
        "sns.heatmap(X.loc[:,['Number vmail messages','Total minutes', 'Total calls','Total charge', 'Customer service calls']].corr())\n",
        "plt.show()"
      ],
      "execution_count": 22,
      "outputs": [
        {
          "output_type": "display_data",
          "data": {
            "image/png": "[encoded data removed]",
            "text/plain": [
              "<Figure size 432x288 with 2 Axes>"
            ]
          },
          "metadata": {
            "tags": [],
            "needs_background": "light"
          }
        }
      ]
    },
    {
      "cell_type": "markdown",
      "metadata": {
        "id": "8JNpNqH8dZlW"
      },
      "source": [
        "**De la Gráfica del Heatmap podemos decir que:**\n",
        "\n",
        "La variable \"Number vmail mesages\" no tiene correlacion con las otras variables, lo cual nos dice que tiene un aporte distinto a las demas variables.\n",
        "\n",
        "La variable \"Total minutes\"  tiene correlacion con la variable \"Total charge\", lo cual nos dice que tiene un MISMO aporte que esta variable, por lo cual se recomienda descartar una de ellas.\n",
        "\n",
        "La variable \"Total calls\" no tiene correlacion con las otras variables, lo cual nos dice que tiene un aporte distinto a las demas variables.\n",
        "\n",
        "La variable \"Total charge\"  tiene correlacion con la variable \"Total minutes\", lo cual nos dice que tiene un MISMO aporte que esta variable, por lo cual se recomienda descartar una de ellas.\n",
        "\n",
        "La variable \"Customer service calls\" no tiene correlacion con las otras variables, lo cual nos dice que tiene un aporte distinto a las demas variables."
      ]
    },
    {
      "cell_type": "markdown",
      "metadata": {
        "id": "q5Go7zs5esWy"
      },
      "source": [
        "##Correlation Test"
      ]
    },
    {
      "cell_type": "markdown",
      "metadata": {
        "id": "NuVZ9fPYt2H1"
      },
      "source": [
        "**Prueba de Correlación:**\n",
        "\n",
        "Ho: no existe correlación entre las variables = >5%\n",
        "\n",
        "Ha: existe correlación entre las variables = < 5%"
      ]
    },
    {
      "cell_type": "code",
      "metadata": {
        "colab": {
          "base_uri": "https://localhost:8080/"
        },
        "id": "sOashJbGm0ZM",
        "outputId": "234e7801-81d5-4cf8-ca9f-d176d3f1b853"
      },
      "source": [
        "#Correlacion entre las variables independientes\n",
        "ss.spearmanr(data['Number vmail messages'],data['Total minutes'])"
      ],
      "execution_count": 25,
      "outputs": [
        {
          "output_type": "execute_result",
          "data": {
            "text/plain": [
              "SpearmanrResult(correlation=0.013883388184036307, pvalue=0.42298364640016006)"
            ]
          },
          "metadata": {
            "tags": []
          },
          "execution_count": 25
        }
      ]
    },
    {
      "cell_type": "code",
      "metadata": {
        "colab": {
          "base_uri": "https://localhost:8080/"
        },
        "id": "hkqJA-BfogHz",
        "outputId": "76f526a9-c1a1-4b2f-a72c-b6cb26b74091"
      },
      "source": [
        "ss.spearmanr(data['Number vmail messages'],data['Total calls'])"
      ],
      "execution_count": 26,
      "outputs": [
        {
          "output_type": "execute_result",
          "data": {
            "text/plain": [
              "SpearmanrResult(correlation=-0.0028452053259133865, pvalue=0.8695748735825533)"
            ]
          },
          "metadata": {
            "tags": []
          },
          "execution_count": 26
        }
      ]
    },
    {
      "cell_type": "code",
      "metadata": {
        "colab": {
          "base_uri": "https://localhost:8080/"
        },
        "id": "tLjFQvOIotKD",
        "outputId": "fe8bd741-065b-4410-b4ae-0aa41d5ef1a3"
      },
      "source": [
        "ss.spearmanr(data['Number vmail messages'],data['Total charge'])"
      ],
      "execution_count": 27,
      "outputs": [
        {
          "output_type": "execute_result",
          "data": {
            "text/plain": [
              "SpearmanrResult(correlation=0.010399236749992796, pvalue=0.5483987959981619)"
            ]
          },
          "metadata": {
            "tags": []
          },
          "execution_count": 27
        }
      ]
    },
    {
      "cell_type": "code",
      "metadata": {
        "colab": {
          "base_uri": "https://localhost:8080/"
        },
        "id": "shxFbbdGo7D7",
        "outputId": "0c44f6f4-aeea-4684-9124-fd6b286dc75a"
      },
      "source": [
        "ss.spearmanr(data['Number vmail messages'],data['Customer service calls'])"
      ],
      "execution_count": 28,
      "outputs": [
        {
          "output_type": "execute_result",
          "data": {
            "text/plain": [
              "SpearmanrResult(correlation=-0.019639487465458686, pvalue=0.25699860952874515)"
            ]
          },
          "metadata": {
            "tags": []
          },
          "execution_count": 28
        }
      ]
    },
    {
      "cell_type": "code",
      "metadata": {
        "colab": {
          "base_uri": "https://localhost:8080/"
        },
        "id": "d1aK-yu-pMMl",
        "outputId": "b258b0ef-d942-49d1-8668-4b877c559a6c"
      },
      "source": [
        "ss.spearmanr(data['Total minutes'],data['Total calls'])"
      ],
      "execution_count": 29,
      "outputs": [
        {
          "output_type": "execute_result",
          "data": {
            "text/plain": [
              "SpearmanrResult(correlation=0.013886833426594285, pvalue=0.42286855789526445)"
            ]
          },
          "metadata": {
            "tags": []
          },
          "execution_count": 29
        }
      ]
    },
    {
      "cell_type": "code",
      "metadata": {
        "colab": {
          "base_uri": "https://localhost:8080/"
        },
        "id": "Ast9H9jCpiQD",
        "outputId": "80c01f38-d80a-4e03-a6c3-31de02ba14a3"
      },
      "source": [
        "ss.spearmanr(data['Total minutes'],data['Total charge'])"
      ],
      "execution_count": 30,
      "outputs": [
        {
          "output_type": "execute_result",
          "data": {
            "text/plain": [
              "SpearmanrResult(correlation=0.8802417841717907, pvalue=0.0)"
            ]
          },
          "metadata": {
            "tags": []
          },
          "execution_count": 30
        }
      ]
    },
    {
      "cell_type": "code",
      "metadata": {
        "colab": {
          "base_uri": "https://localhost:8080/"
        },
        "id": "8LdQQ-z9pko7",
        "outputId": "e6869483-d6fe-4de1-cd0b-6d41f919c2fd"
      },
      "source": [
        "ss.spearmanr(data['Total minutes'],data['Customer service calls'])"
      ],
      "execution_count": 31,
      "outputs": [
        {
          "output_type": "execute_result",
          "data": {
            "text/plain": [
              "SpearmanrResult(correlation=-0.02524241430371465, pvalue=0.14512076871716872)"
            ]
          },
          "metadata": {
            "tags": []
          },
          "execution_count": 31
        }
      ]
    },
    {
      "cell_type": "code",
      "metadata": {
        "colab": {
          "base_uri": "https://localhost:8080/"
        },
        "id": "yuDeJFunpnvL",
        "outputId": "36377b25-bdba-4abf-dd2e-c0a3758b8ee0"
      },
      "source": [
        "ss.spearmanr(data['Total calls'],data['Total charge'])"
      ],
      "execution_count": 32,
      "outputs": [
        {
          "output_type": "execute_result",
          "data": {
            "text/plain": [
              "SpearmanrResult(correlation=0.016780360946673012, pvalue=0.33280922258645274)"
            ]
          },
          "metadata": {
            "tags": []
          },
          "execution_count": 32
        }
      ]
    },
    {
      "cell_type": "code",
      "metadata": {
        "colab": {
          "base_uri": "https://localhost:8080/"
        },
        "id": "Q3rQQY0_p209",
        "outputId": "caec8381-5c5f-4393-f2f8-e5e3a6978bca"
      },
      "source": [
        "ss.spearmanr(data['Total calls'],data['Customer service calls'])"
      ],
      "execution_count": 33,
      "outputs": [
        {
          "output_type": "execute_result",
          "data": {
            "text/plain": [
              "SpearmanrResult(correlation=-0.01394796731631684, pvalue=0.42082942742480445)"
            ]
          },
          "metadata": {
            "tags": []
          },
          "execution_count": 33
        }
      ]
    },
    {
      "cell_type": "code",
      "metadata": {
        "colab": {
          "base_uri": "https://localhost:8080/"
        },
        "id": "VQby-gyOp6gM",
        "outputId": "52c4dae5-8457-4c79-f862-fc5491a8a39c"
      },
      "source": [
        "ss.spearmanr(data['Total charge'],data['Customer service calls'])"
      ],
      "execution_count": 34,
      "outputs": [
        {
          "output_type": "execute_result",
          "data": {
            "text/plain": [
              "SpearmanrResult(correlation=-0.02467585149184646, pvalue=0.15436769126789038)"
            ]
          },
          "metadata": {
            "tags": []
          },
          "execution_count": 34
        }
      ]
    },
    {
      "cell_type": "markdown",
      "metadata": {
        "id": "AK3UTwege4kg"
      },
      "source": [
        "**De la prueba de correlacion para las variables cuantitativas podemos decir que:**\n",
        "\n",
        "Solo las variables \"Total minutes\" y \"Total charge\" muestran correlacion entre ellas, ya que su p-value es menor a 5%. Por lo tanto es recomendable descartar alguna de ellas, ya que ambas aportan los mismo."
      ]
    },
    {
      "cell_type": "markdown",
      "metadata": {
        "id": "LalLm2jbfWO4"
      },
      "source": [
        "##K-means"
      ]
    },
    {
      "cell_type": "code",
      "metadata": {
        "id": "Zji8QbwHsd2e"
      },
      "source": [
        "#Data preprocessing for K-means\n",
        "data_X = X.drop('c_International_plan', 1)\n",
        "data_X = data_X.drop('c_Voice_mail_plan', 1)"
      ],
      "execution_count": 35,
      "outputs": []
    },
    {
      "cell_type": "code",
      "metadata": {
        "colab": {
          "base_uri": "https://localhost:8080/",
          "height": 204
        },
        "id": "sc3aX-UHtZFm",
        "outputId": "44873eff-93dc-4958-8a5d-49ccfe2805fb"
      },
      "source": [
        "data_X.head(5)"
      ],
      "execution_count": 36,
      "outputs": [
        {
          "output_type": "execute_result",
          "data": {
            "text/html": [
              "<div>\n",
              "<style scoped>\n",
              "    .dataframe tbody tr th:only-of-type {\n",
              "        vertical-align: middle;\n",
              "    }\n",
              "\n",
              "    .dataframe tbody tr th {\n",
              "        vertical-align: top;\n",
              "    }\n",
              "\n",
              "    .dataframe thead th {\n",
              "        text-align: right;\n",
              "    }\n",
              "</style>\n",
              "<table border=\"1\" class=\"dataframe\">\n",
              "  <thead>\n",
              "    <tr style=\"text-align: right;\">\n",
              "      <th></th>\n",
              "      <th>Number vmail messages</th>\n",
              "      <th>Total minutes</th>\n",
              "      <th>Total calls</th>\n",
              "      <th>Total charge</th>\n",
              "      <th>Customer service calls</th>\n",
              "    </tr>\n",
              "  </thead>\n",
              "  <tbody>\n",
              "    <tr>\n",
              "      <th>0</th>\n",
              "      <td>25</td>\n",
              "      <td>717.2</td>\n",
              "      <td>303</td>\n",
              "      <td>75.56</td>\n",
              "      <td>1</td>\n",
              "    </tr>\n",
              "    <tr>\n",
              "      <th>1</th>\n",
              "      <td>26</td>\n",
              "      <td>625.2</td>\n",
              "      <td>332</td>\n",
              "      <td>59.24</td>\n",
              "      <td>1</td>\n",
              "    </tr>\n",
              "    <tr>\n",
              "      <th>2</th>\n",
              "      <td>0</td>\n",
              "      <td>539.4</td>\n",
              "      <td>333</td>\n",
              "      <td>62.29</td>\n",
              "      <td>0</td>\n",
              "    </tr>\n",
              "    <tr>\n",
              "      <th>3</th>\n",
              "      <td>0</td>\n",
              "      <td>564.8</td>\n",
              "      <td>255</td>\n",
              "      <td>66.80</td>\n",
              "      <td>2</td>\n",
              "    </tr>\n",
              "    <tr>\n",
              "      <th>4</th>\n",
              "      <td>0</td>\n",
              "      <td>512.0</td>\n",
              "      <td>359</td>\n",
              "      <td>52.09</td>\n",
              "      <td>3</td>\n",
              "    </tr>\n",
              "  </tbody>\n",
              "</table>\n",
              "</div>"
            ],
            "text/plain": [
              "   Number vmail messages  Total minutes  ...  Total charge  Customer service calls\n",
              "0                     25          717.2  ...         75.56                       1\n",
              "1                     26          625.2  ...         59.24                       1\n",
              "2                      0          539.4  ...         62.29                       0\n",
              "3                      0          564.8  ...         66.80                       2\n",
              "4                      0          512.0  ...         52.09                       3\n",
              "\n",
              "[5 rows x 5 columns]"
            ]
          },
          "metadata": {
            "tags": []
          },
          "execution_count": 36
        }
      ]
    },
    {
      "cell_type": "code",
      "metadata": {
        "id": "GPsfumn1rGIs"
      },
      "source": [
        "#Función para determinar el mejor k (número de segmentos) para el modelo K-means\n",
        "def graf_silt_seg(data_X, n):\n",
        "  lst_segmentos = []\n",
        "  lst_siluetas = []\n",
        "  data_X_scale = pd.DataFrame(StandardScaler().fit_transform(data_X))\n",
        "  data_X_scale.columns = [\"Number vmail messages\",\"Total minutes\",\"Total calls\",\"Total charge\",\"Customer service calls\"]\n",
        "  data_X_scale.head()\n",
        "  for i in range(2, n): #el minimo siempre es 2\n",
        "    lst_segmentos.append(i)\n",
        "    kmeans = KMeans(n_clusters=i).fit(data_X_scale)\n",
        "    labels = pd.DataFrame(kmeans.predict(data_X_scale))\n",
        "    labels.columns = ['segmento']\n",
        "    silhouette_avg = silhouette_score(data_X, labels)\n",
        "    lst_siluetas.append(silhouette_avg)\n",
        "\n",
        "  plt.title(\"Segmentos vs Siluetas\")\n",
        "  plt.bar(lst_segmentos, lst_siluetas, color ='orange',width = 0.5)\n",
        "  plt.xlabel(\"Segmentos\")\n",
        "  plt.ylabel(\"Ancho de silueta\")\n",
        "  plt.axis('tight')\n",
        "  plt.show()\n",
        "  indice_max = lst_siluetas.index(max(lst_siluetas))\n",
        "  print(\"El mejor número de segmentos es \", lst_segmentos[indice_max])"
      ],
      "execution_count": 38,
      "outputs": []
    },
    {
      "cell_type": "code",
      "metadata": {
        "colab": {
          "base_uri": "https://localhost:8080/",
          "height": 482
        },
        "id": "NA5HKh9brafk",
        "outputId": "79f75ab1-387f-482e-e73a-768cae1cfd91"
      },
      "source": [
        "graf_silt_seg(data_X, 7)"
      ],
      "execution_count": 39,
      "outputs": [
        {
          "output_type": "stream",
          "text": [
            "/usr/local/lib/python3.7/dist-packages/sklearn/utils/validation.py:760: DataConversionWarning: A column-vector y was passed when a 1d array was expected. Please change the shape of y to (n_samples, ), for example using ravel().\n",
            "  y = column_or_1d(y, warn=True)\n",
            "/usr/local/lib/python3.7/dist-packages/sklearn/utils/validation.py:760: DataConversionWarning: A column-vector y was passed when a 1d array was expected. Please change the shape of y to (n_samples, ), for example using ravel().\n",
            "  y = column_or_1d(y, warn=True)\n",
            "/usr/local/lib/python3.7/dist-packages/sklearn/utils/validation.py:760: DataConversionWarning: A column-vector y was passed when a 1d array was expected. Please change the shape of y to (n_samples, ), for example using ravel().\n",
            "  y = column_or_1d(y, warn=True)\n",
            "/usr/local/lib/python3.7/dist-packages/sklearn/utils/validation.py:760: DataConversionWarning: A column-vector y was passed when a 1d array was expected. Please change the shape of y to (n_samples, ), for example using ravel().\n",
            "  y = column_or_1d(y, warn=True)\n",
            "/usr/local/lib/python3.7/dist-packages/sklearn/utils/validation.py:760: DataConversionWarning: A column-vector y was passed when a 1d array was expected. Please change the shape of y to (n_samples, ), for example using ravel().\n",
            "  y = column_or_1d(y, warn=True)\n"
          ],
          "name": "stderr"
        },
        {
          "output_type": "display_data",
          "data": {
            "image/png": "[encoded data removed]",
            "text/plain": [
              "<Figure size 432x288 with 1 Axes>"
            ]
          },
          "metadata": {
            "tags": [],
            "needs_background": "light"
          }
        },
        {
          "output_type": "stream",
          "text": [
            "El mejor número de segmentos es  2\n"
          ],
          "name": "stdout"
        }
      ]
    },
    {
      "cell_type": "markdown",
      "metadata": {
        "id": "ma6ZwNDDgVGK"
      },
      "source": [
        "##Machine Learning techniques"
      ]
    },
    {
      "cell_type": "code",
      "metadata": {
        "colab": {
          "base_uri": "https://localhost:8080/",
          "height": 204
        },
        "id": "YBjY1-_DvvJM",
        "outputId": "0c71151e-56ec-449e-ad1f-6dd7af198a41"
      },
      "source": [
        "#Usamos la data \"X\"\n",
        "X.head(5)"
      ],
      "execution_count": 41,
      "outputs": [
        {
          "output_type": "execute_result",
          "data": {
            "text/html": [
              "<div>\n",
              "<style scoped>\n",
              "    .dataframe tbody tr th:only-of-type {\n",
              "        vertical-align: middle;\n",
              "    }\n",
              "\n",
              "    .dataframe tbody tr th {\n",
              "        vertical-align: top;\n",
              "    }\n",
              "\n",
              "    .dataframe thead th {\n",
              "        text-align: right;\n",
              "    }\n",
              "</style>\n",
              "<table border=\"1\" class=\"dataframe\">\n",
              "  <thead>\n",
              "    <tr style=\"text-align: right;\">\n",
              "      <th></th>\n",
              "      <th>c_International_plan</th>\n",
              "      <th>c_Voice_mail_plan</th>\n",
              "      <th>Number vmail messages</th>\n",
              "      <th>Total minutes</th>\n",
              "      <th>Total calls</th>\n",
              "      <th>Total charge</th>\n",
              "      <th>Customer service calls</th>\n",
              "    </tr>\n",
              "  </thead>\n",
              "  <tbody>\n",
              "    <tr>\n",
              "      <th>0</th>\n",
              "      <td>0</td>\n",
              "      <td>1</td>\n",
              "      <td>25</td>\n",
              "      <td>717.2</td>\n",
              "      <td>303</td>\n",
              "      <td>75.56</td>\n",
              "      <td>1</td>\n",
              "    </tr>\n",
              "    <tr>\n",
              "      <th>1</th>\n",
              "      <td>0</td>\n",
              "      <td>1</td>\n",
              "      <td>26</td>\n",
              "      <td>625.2</td>\n",
              "      <td>332</td>\n",
              "      <td>59.24</td>\n",
              "      <td>1</td>\n",
              "    </tr>\n",
              "    <tr>\n",
              "      <th>2</th>\n",
              "      <td>0</td>\n",
              "      <td>0</td>\n",
              "      <td>0</td>\n",
              "      <td>539.4</td>\n",
              "      <td>333</td>\n",
              "      <td>62.29</td>\n",
              "      <td>0</td>\n",
              "    </tr>\n",
              "    <tr>\n",
              "      <th>3</th>\n",
              "      <td>1</td>\n",
              "      <td>0</td>\n",
              "      <td>0</td>\n",
              "      <td>564.8</td>\n",
              "      <td>255</td>\n",
              "      <td>66.80</td>\n",
              "      <td>2</td>\n",
              "    </tr>\n",
              "    <tr>\n",
              "      <th>4</th>\n",
              "      <td>1</td>\n",
              "      <td>0</td>\n",
              "      <td>0</td>\n",
              "      <td>512.0</td>\n",
              "      <td>359</td>\n",
              "      <td>52.09</td>\n",
              "      <td>3</td>\n",
              "    </tr>\n",
              "  </tbody>\n",
              "</table>\n",
              "</div>"
            ],
            "text/plain": [
              "   c_International_plan  ...  Customer service calls\n",
              "0                     0  ...                       1\n",
              "1                     0  ...                       1\n",
              "2                     0  ...                       0\n",
              "3                     1  ...                       2\n",
              "4                     1  ...                       3\n",
              "\n",
              "[5 rows x 7 columns]"
            ]
          },
          "metadata": {
            "tags": []
          },
          "execution_count": 41
        }
      ]
    },
    {
      "cell_type": "code",
      "metadata": {
        "id": "KhmUT8jB5wMe"
      },
      "source": [
        "X = X.to_numpy()\n",
        "y = y.to_numpy()"
      ],
      "execution_count": 42,
      "outputs": []
    },
    {
      "cell_type": "code",
      "metadata": {
        "id": "KzlP2ZlnxhD8"
      },
      "source": [
        "X_train, X_test, y_train, y_test = train_test_split(X, y, test_size = 0.20, random_state = 0)"
      ],
      "execution_count": 43,
      "outputs": []
    },
    {
      "cell_type": "code",
      "metadata": {
        "id": "lY4ESD8DxkeS"
      },
      "source": [
        "#Standarizacion\n",
        "X_train = StandardScaler().fit_transform(X_train)\n",
        "X_test = StandardScaler().fit_transform(X_test)"
      ],
      "execution_count": 44,
      "outputs": []
    },
    {
      "cell_type": "markdown",
      "metadata": {
        "id": "rvhyu7tYm22k"
      },
      "source": [
        "###Support Vector Machine"
      ]
    },
    {
      "cell_type": "code",
      "metadata": {
        "id": "t-tmbwKhuXei"
      },
      "source": [
        "#SVM\n",
        "classifier_SVM = SVC(kernel='linear',probability=True).fit(X_train, y_train)"
      ],
      "execution_count": 46,
      "outputs": []
    },
    {
      "cell_type": "code",
      "metadata": {
        "id": "Zj4LpOB3w2Dc"
      },
      "source": [
        "y_pred_SVM = classifier_SVM.predict(X_test)"
      ],
      "execution_count": 47,
      "outputs": []
    },
    {
      "cell_type": "code",
      "metadata": {
        "id": "lXIvDvp-yi4G"
      },
      "source": [
        "y_pred_prob_SVM = classifier_SVM.predict_proba(X_test)"
      ],
      "execution_count": 49,
      "outputs": []
    },
    {
      "cell_type": "code",
      "metadata": {
        "id": "bMHTvEPtyplU"
      },
      "source": [
        "false_positive_rate_SVM, true_positive_rate_SVM, thresholds_SVM = roc_curve(y_test, y_pred_prob_SVM[:,1])"
      ],
      "execution_count": 50,
      "outputs": []
    },
    {
      "cell_type": "code",
      "metadata": {
        "colab": {
          "base_uri": "https://localhost:8080/"
        },
        "id": "-9HeH1Jpy08v",
        "outputId": "6882c05b-49a4-4051-fad5-0e435cefc6a6"
      },
      "source": [
        "#ROC SVM\n",
        "roc_auc_SVM = auc(false_positive_rate_SVM, true_positive_rate_SVM)\n",
        "roc_auc_SVM"
      ],
      "execution_count": 51,
      "outputs": [
        {
          "output_type": "execute_result",
          "data": {
            "text/plain": [
              "0.7897793263646922"
            ]
          },
          "metadata": {
            "tags": []
          },
          "execution_count": 51
        }
      ]
    },
    {
      "cell_type": "markdown",
      "metadata": {
        "id": "oV7qeLAZjDBX"
      },
      "source": [
        "La curva AUC para el modelo de SVM es de 0.79"
      ]
    },
    {
      "cell_type": "markdown",
      "metadata": {
        "id": "usEhQyddm-rC"
      },
      "source": [
        "###Random Forest"
      ]
    },
    {
      "cell_type": "code",
      "metadata": {
        "id": "-g_lAbGaxxTu"
      },
      "source": [
        "#Random Forest"
      ],
      "execution_count": 53,
      "outputs": []
    },
    {
      "cell_type": "code",
      "metadata": {
        "id": "9OxXEFk6yMsP"
      },
      "source": [
        "classifier_RanF = RandomForestClassifier().fit(X_train, y_train) #default=100 arboles"
      ],
      "execution_count": 54,
      "outputs": []
    },
    {
      "cell_type": "code",
      "metadata": {
        "id": "lQlqSZGTyYHe"
      },
      "source": [
        "y_pred_RandF = classifier_RanF.predict(X_test)"
      ],
      "execution_count": 55,
      "outputs": []
    },
    {
      "cell_type": "code",
      "metadata": {
        "id": "Y1ZuwoQDzrRG"
      },
      "source": [
        "y_pred_prob_RandF = classifier_RanF.predict_proba(X_test)"
      ],
      "execution_count": 57,
      "outputs": []
    },
    {
      "cell_type": "code",
      "metadata": {
        "id": "22icGtJIz292"
      },
      "source": [
        "false_positive_rate_RandF, true_positive_rate_RandF, thresholds_RandF = roc_curve(y_test, y_pred_prob_RandF[:,1])"
      ],
      "execution_count": 58,
      "outputs": []
    },
    {
      "cell_type": "code",
      "metadata": {
        "colab": {
          "base_uri": "https://localhost:8080/"
        },
        "id": "JAaNhiHn0Br2",
        "outputId": "0faa4591-0d4a-4e80-ed2f-969b7174024a"
      },
      "source": [
        "#Roc Random Forest\n",
        "roc_auc_RandF = auc(false_positive_rate_RandF, true_positive_rate_RandF)\n",
        "roc_auc_RandF"
      ],
      "execution_count": 59,
      "outputs": [
        {
          "output_type": "execute_result",
          "data": {
            "text/plain": [
              "0.9212843280506537"
            ]
          },
          "metadata": {
            "tags": []
          },
          "execution_count": 59
        }
      ]
    },
    {
      "cell_type": "markdown",
      "metadata": {
        "id": "eyfbqzvpjH0y"
      },
      "source": [
        "La curva AUC para el modelo de Random Forest es de 0.92"
      ]
    },
    {
      "cell_type": "code",
      "metadata": {
        "id": "Px7Dyie16BMf"
      },
      "source": [
        ""
      ],
      "execution_count": 60,
      "outputs": []
    },
    {
      "cell_type": "markdown",
      "metadata": {
        "id": "bOTeqWZsnEDf"
      },
      "source": [
        "###Gradient Boosting"
      ]
    },
    {
      "cell_type": "code",
      "metadata": {
        "id": "JINVS1vw0W23"
      },
      "source": [
        "#Boosting"
      ],
      "execution_count": 61,
      "outputs": []
    },
    {
      "cell_type": "code",
      "metadata": {
        "id": "vn2zx2GL0dK2"
      },
      "source": [
        "classifier_Boost = GradientBoostingClassifier().fit(X_train, y_train)"
      ],
      "execution_count": 62,
      "outputs": []
    },
    {
      "cell_type": "code",
      "metadata": {
        "id": "AeCs7ucr01a_"
      },
      "source": [
        "y_pred_Boost = classifier_Boost.predict(X_test)"
      ],
      "execution_count": 63,
      "outputs": []
    },
    {
      "cell_type": "code",
      "metadata": {
        "id": "CpHaOnZM0_S5"
      },
      "source": [
        "y_pred_prob_Boost = classifier_Boost.predict_proba(X_test)"
      ],
      "execution_count": 65,
      "outputs": []
    },
    {
      "cell_type": "code",
      "metadata": {
        "id": "Uv1duDJk1FYf"
      },
      "source": [
        "false_positive_rate_Boost, true_positive_rate_Boost, thresholds_Boost = roc_curve(y_test, y_pred_prob_Boost[:,1])"
      ],
      "execution_count": 66,
      "outputs": []
    },
    {
      "cell_type": "code",
      "metadata": {
        "colab": {
          "base_uri": "https://localhost:8080/"
        },
        "id": "CLO0JVrR1Pgu",
        "outputId": "d6c2c745-ca8d-4999-e979-276c452bf9c5"
      },
      "source": [
        "#Roc Boosting\n",
        "roc_auc_Boost = auc(false_positive_rate_Boost, true_positive_rate_Boost)\n",
        "roc_auc_Boost"
      ],
      "execution_count": 67,
      "outputs": [
        {
          "output_type": "execute_result",
          "data": {
            "text/plain": [
              "0.8564872054250496"
            ]
          },
          "metadata": {
            "tags": []
          },
          "execution_count": 67
        }
      ]
    },
    {
      "cell_type": "markdown",
      "metadata": {
        "id": "WLnMmb0ajPIb"
      },
      "source": [
        "La curva AUC para el modelo de Gradient Boosting es de 0.86"
      ]
    },
    {
      "cell_type": "markdown",
      "metadata": {
        "id": "_2vAwtMTn8k8"
      },
      "source": [
        "###Confusion Matrix"
      ]
    },
    {
      "cell_type": "code",
      "metadata": {
        "id": "8dkohjNeoA1Z"
      },
      "source": [
        "X_train, X_test, y_train, y_test = train_test_split(X, y, test_size = 0.20, random_state = 0)"
      ],
      "execution_count": 78,
      "outputs": []
    },
    {
      "cell_type": "code",
      "metadata": {
        "id": "yghVwRQroHDi"
      },
      "source": [
        "#Classifiers\n",
        "classifiers = [SVC(kernel='linear',probability=True),\n",
        "               RandomForestClassifier(), \n",
        "               GradientBoostingClassifier()]"
      ],
      "execution_count": 85,
      "outputs": []
    },
    {
      "cell_type": "code",
      "metadata": {
        "id": "aTo1eM1u1w1c"
      },
      "source": [
        "def confu_matrix(classifiers, X_train, X_test, y_train, y_test):\n",
        "\n",
        "  fig, axes = plt.subplots(nrows=1, ncols=3, figsize=(15,10))\n",
        "\n",
        "  for cls, ax in zip(classifiers, axes.flatten()):\n",
        "    if classifiers.index(cls) == 0:\n",
        "      X_train = StandardScaler().fit_transform(X_train)\n",
        "      X_test = StandardScaler().fit_transform(X_test)\n",
        "    cls.fit(X_train, y_train)\n",
        "    plot_confusion_matrix(cls, \n",
        "                          X_test, \n",
        "                          y_test, \n",
        "                          ax=ax, \n",
        "                          cmap='Blues',\n",
        "                         normalize= 'true')\n",
        "    ax.title.set_text(type(cls).__name__)\n",
        "  plt.tight_layout()  \n",
        "  plt.show()"
      ],
      "execution_count": 86,
      "outputs": []
    },
    {
      "cell_type": "code",
      "metadata": {
        "colab": {
          "base_uri": "https://localhost:8080/",
          "height": 729
        },
        "id": "JU11xVrO1zEe",
        "outputId": "37bb2263-88a9-4e5a-8aaa-2bfc37034850"
      },
      "source": [
        "confu_matrix(classifiers, X_train, X_test, y_train, y_test)"
      ],
      "execution_count": 87,
      "outputs": [
        {
          "output_type": "display_data",
          "data": {
            "image/png": "[encoded data removed]",
            "text/plain": [
              "<Figure size 1080x720 with 6 Axes>"
            ]
          },
          "metadata": {
            "tags": [],
            "needs_background": "light"
          }
        }
      ]
    },
    {
      "cell_type": "markdown",
      "metadata": {
        "id": "XiaKP3r54oUx"
      },
      "source": [
        "* **Support Vector Machine**\n",
        "\n",
        "Sensibilidad: 0% -> De 100 clientes que se han dado de baja el modelo identifica a 0\n",
        "\n",
        "Especificidad: 100% -> De 100 clientes que No han se han dado el modelo identifica a 100\n",
        "\n",
        "* **Random Forest Classifier**\n",
        "\n",
        "Sensibilidad: 66% -> De 100 clientes que se han dado de baja el modelo identifica a 66\n",
        "\n",
        "Especificidad: 98% -> De 100 clientes que No han se han dado el modelo identifica a 98\n",
        "\n",
        "* **Gradient Boosting**\n",
        "\n",
        "Sensibilidad: 65% -> De 100 clientes que se han dado de baja el modelo identifica a 65\n",
        "\n",
        "Especificidad: 98% -> De 100 clientes que No han se han dado el modelo identifica a 98"
      ]
    },
    {
      "cell_type": "markdown",
      "metadata": {
        "id": "wLTsELjB15yn"
      },
      "source": [
        "##AUC-ROC Curve"
      ]
    },
    {
      "cell_type": "code",
      "metadata": {
        "colab": {
          "base_uri": "https://localhost:8080/",
          "height": 295
        },
        "id": "_3r5wqgS1bkH",
        "outputId": "e14cafc9-f077-45db-fdc1-85482d555dab"
      },
      "source": [
        "plt.title('Receiver Operating Characteristic')\n",
        "plt.plot(false_positive_rate_SVM,true_positive_rate_SVM, color='red',label = 'AUC_SVM = %0.2f' % roc_auc_SVM)\n",
        "plt.plot(false_positive_rate_RandF,true_positive_rate_RandF, color='orange',label = 'AUC_RandF = %0.2f' % roc_auc_RandF)\n",
        "plt.plot(false_positive_rate_Boost,true_positive_rate_Boost, color='purple',label = 'AUC_Boost = %0.2f' % roc_auc_Boost)\n",
        "plt.legend(loc = 'lower right')\n",
        "plt.plot([0, 1], [0, 1],linestyle='--')\n",
        "plt.axis('tight')\n",
        "plt.ylabel('True Positive Rate')\n",
        "plt.xlabel('False Positive Rate')\n",
        "plt.show()"
      ],
      "execution_count": 88,
      "outputs": [
        {
          "output_type": "display_data",
          "data": {
            "image/png": "[encoded data removed]",
            "text/plain": [
              "<Figure size 432x288 with 1 Axes>"
            ]
          },
          "metadata": {
            "tags": [],
            "needs_background": "light"
          }
        }
      ]
    },
    {
      "cell_type": "markdown",
      "metadata": {
        "id": "qpibJRek5jPI"
      },
      "source": [
        "* **Conclusiones:**\n",
        "\n",
        "Comparando las 3 matrices de confusion podemos descartar el modelo SVM, ya que tiene un sansibilidad de 0%, mientras que los otros modelos tienen una sensibilidad mayor a 60%\n",
        "\n",
        "De igual manera analizando la curva roc podemos decir que el mejor modelo es Random Forest, ya que su curva roc es de 0.91"
      ]
    }
  ]
}
